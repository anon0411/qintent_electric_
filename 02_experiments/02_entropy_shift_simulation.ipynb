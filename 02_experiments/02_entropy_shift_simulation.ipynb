{
 "cells": [
  {
   "cell_type": "code",
   "execution_count": null,
   "id": "f30ef511",
   "metadata": {
    "vscode": {
     "languageId": "plaintext"
    }
   },
   "outputs": [],
   "source": [
    "#관측 결과의 누적된 결핍 → 회로 구조 확장 구조\n",
    "\n",
    "\n",
    "import numpy as np\n",
    "from qiskit import QuantumCircuit, Aer, execute\n",
    "import matplotlib.pyplot as plt\n",
    "from collections import Counter\n",
    "\n",
    "sim = Aer.get_backend('qasm_simulator')\n",
    "shots = 1024\n",
    "steps = 30\n",
    "\n",
    "# 초기 조건\n",
    "n = 2  # 시작 큐비트 수\n",
    "U = [np.random.uniform(0, np.pi) for _ in range(n)]\n",
    "dominant_counts = Counter()\n",
    "trajectory = []\n",
    "n_history = []\n",
    "\n",
    "# 회로 실행 함수\n",
    "def run_circuit(U):\n",
    "    qc = QuantumCircuit(len(U), len(U))\n",
    "    for i, theta in enumerate(U):\n",
    "        qc.ry(theta, i)\n",
    "    qc.barrier()\n",
    "    qc.measure(range(len(U)), range(len(U)))\n",
    "    result = execute(qc, sim, shots=shots).result()\n",
    "    return result.get_counts()\n",
    "\n",
    "# 큐비트 수 확장 조건: dominant 상태가 연속 5회 이상 등장\n",
    "threshold = 5\n",
    "last_dominant = None\n",
    "dominant_streak = 0\n",
    "\n",
    "for step in range(steps):\n",
    "    counts = run_circuit(U)\n",
    "    trajectory.append(counts)\n",
    "    n_history.append(len(U))\n",
    "\n",
    "    # 가장 많이 나온 상태\n",
    "    dominant = max(counts.items(), key=lambda x: x[1])[0]\n",
    "\n",
    "    if dominant == last_dominant:\n",
    "        dominant_streak += 1\n",
    "    else:\n",
    "        dominant_streak = 1\n",
    "        last_dominant = dominant\n",
    "\n",
    "    # 누적 조건 만족 → 큐비트 추가\n",
    "    if dominant_streak >= threshold:\n",
    "        U.append(np.pi / 4)  # 새 큐비트 초기화\n",
    "        dominant_streak = 0  # 리셋\n",
    "\n",
    "# 시각화: 큐비트 수 변화\n",
    "plt.figure(figsize=(10, 4))\n",
    "plt.plot(n_history, marker='o')\n",
    "plt.title(\"Qubit Count Over Time (Structure Expansion via Repetitive Observation)\")\n",
    "plt.xlabel(\"Step\")\n",
    "plt.ylabel(\"Qubit Count\")\n",
    "plt.grid(True)\n",
    "plt.show()\n"
   ]
  },
  {
   "cell_type": "code",
   "execution_count": null,
   "id": "b7eb6900",
   "metadata": {
    "vscode": {
     "languageId": "plaintext"
    }
   },
   "outputs": [],
   "source": []
  }
 ],
 "metadata": {
  "language_info": {
   "name": "python"
  }
 },
 "nbformat": 4,
 "nbformat_minor": 5
}
