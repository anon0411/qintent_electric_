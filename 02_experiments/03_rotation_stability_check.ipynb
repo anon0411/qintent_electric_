{
 "cells": [
  {
   "cell_type": "code",
   "execution_count": null,
   "id": "f30ef511",
   "metadata": {
    "vscode": {
     "languageId": "plaintext"
    }
   },
   "outputs": [],
   "source": [
    "#관측 분포 → 전위 경사 → 구조 기울기 유도\n",
    "\n",
    "import numpy as np\n",
    "from qiskit import QuantumCircuit, Aer, execute\n",
    "import matplotlib.pyplot as plt\n",
    "\n",
    "sim = Aer.get_backend('qasm_simulator')\n",
    "shots = 1024\n",
    "n = 3\n",
    "steps = 30\n",
    "\n",
    "# 초기 게이트 각도: 균형\n",
    "U = np.full(n, np.pi / 4)\n",
    "learning_rate = 0.1\n",
    "\n",
    "# 기록\n",
    "U_history = []\n",
    "\n",
    "# 회로 실행\n",
    "def run_circuit(U):\n",
    "    qc = QuantumCircuit(n, n)\n",
    "    for i in range(n):\n",
    "        qc.ry(U[i], i)\n",
    "    qc.barrier()\n",
    "    qc.measure(range(n), range(n))\n",
    "    result = execute(qc, sim, shots=shots).result()\n",
    "    return result.get_counts()\n",
    "\n",
    "# 분포 평균값 기반 업데이트\n",
    "def update_U(U, counts):\n",
    "    total = sum(counts.values())\n",
    "    avg_bits = np.zeros(n)\n",
    "    for bitstring, count in counts.items():\n",
    "        bits = np.array([int(b) for b in bitstring[::-1]])  # Qiskit 비트 순서 보정\n",
    "        avg_bits += bits * (count / total)\n",
    "    delta = (avg_bits - 0.5) * np.pi * learning_rate\n",
    "    return U + delta\n",
    "\n",
    "for step in range(steps):\n",
    "    counts = run_circuit(U)\n",
    "    U_history.append(U.copy())\n",
    "    U = update_U(U, counts)\n",
    "\n",
    "# 시각화: 각 큐비트의 RY 각도 변화\n",
    "U_history = np.array(U_history)\n",
    "\n",
    "plt.figure(figsize=(10, 5))\n",
    "for i in range(n):\n",
    "    plt.plot(U_history[:, i], label=f'Qubit {i}')\n",
    "plt.title(\"Gate Angle Adaptation via Distribution Gradient\")\n",
    "plt.xlabel(\"Step\")\n",
    "plt.ylabel(\"RY Angle (radians)\")\n",
    "plt.legend()\n",
    "plt.grid(True)\n",
    "plt.show()\n"
   ]
  },
  {
   "cell_type": "code",
   "execution_count": null,
   "id": "b7eb6900",
   "metadata": {
    "vscode": {
     "languageId": "plaintext"
    }
   },
   "outputs": [],
   "source": []
  }
 ],
 "metadata": {
  "language_info": {
   "name": "python"
  }
 },
 "nbformat": 4,
 "nbformat_minor": 5
}
