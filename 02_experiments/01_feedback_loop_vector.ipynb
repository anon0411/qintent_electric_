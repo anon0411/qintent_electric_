{
 "cells": [
  {
   "cell_type": "code",
   "execution_count": null,
   "id": "f30ef511",
   "metadata": {
    "vscode": {
     "languageId": "plaintext"
    }
   },
   "outputs": [],
   "source": [
    "#실험 구조 요약: 관측 → 다음 회로 결정\n",
    "\n",
    "\n",
    "import numpy as np\n",
    "from qiskit import QuantumCircuit, Aer, execute\n",
    "import matplotlib.pyplot as plt\n",
    "from collections import Counter\n",
    "\n",
    "# 기본 설정\n",
    "sim = Aer.get_backend('qasm_simulator')\n",
    "shots = 1024\n",
    "n = 3  # 큐비트 수\n",
    "steps = 30\n",
    "\n",
    "# 초기 상태\n",
    "U = np.random.uniform(0, np.pi, size=n)\n",
    "\n",
    "# 비트스트링 → RY 각도로 변환 (0 → 0, 1 → π)\n",
    "def bitstring_to_angles(bitstring):\n",
    "    return np.array([np.pi if b == '1' else 0.0 for b in bitstring[::-1]])  # Qiskit 순서 보정\n",
    "\n",
    "# 회로 실행\n",
    "def run_circuit(U):\n",
    "    qc = QuantumCircuit(n, n)\n",
    "    for i in range(n):\n",
    "        qc.ry(U[i], i)\n",
    "    qc.barrier()\n",
    "    qc.measure(range(n), range(n))\n",
    "    result = execute(qc, sim, shots=shots).result()\n",
    "    return result.get_counts()\n",
    "\n",
    "# 기록\n",
    "trajectory = []\n",
    "dominant_path = []\n",
    "\n",
    "for step in range(steps):\n",
    "    counts = run_circuit(U)\n",
    "    trajectory.append(counts)\n",
    "\n",
    "    # 가장 많이 나온 관측 결과를 다음 회로 각도로 변환\n",
    "    most_common = max(counts.items(), key=lambda x: x[1])[0]\n",
    "    dominant_path.append(most_common)\n",
    "    U = bitstring_to_angles(most_common)\n",
    "\n",
    "# 시각화: dominant state trajectory\n",
    "def plot_dominant_trajectory(path):\n",
    "    int_values = [int(b, 2) for b in path]\n",
    "    plt.figure(figsize=(10, 4))\n",
    "    plt.plot(int_values, marker='o')\n",
    "    plt.title(\"Dominant Measured State Trajectory (as Integer)\")\n",
    "    plt.xlabel(\"Step\")\n",
    "    plt.ylabel(\"State (0-7)\")\n",
    "    plt.grid(True)\n",
    "    plt.show()\n",
    "\n",
    "plot_dominant_trajectory(dominant_path)\n"
   ]
  },
  {
   "cell_type": "code",
   "execution_count": null,
   "id": "b7eb6900",
   "metadata": {
    "vscode": {
     "languageId": "plaintext"
    }
   },
   "outputs": [],
   "source": []
  }
 ],
 "metadata": {
  "language_info": {
   "name": "python"
  }
 },
 "nbformat": 4,
 "nbformat_minor": 5
}
